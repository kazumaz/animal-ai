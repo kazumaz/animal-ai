{
 "cells": [
  {
   "cell_type": "code",
   "execution_count": 1,
   "metadata": {},
   "outputs": [
    {
     "ename": "ImportError",
     "evalue": "cannot import name 'Images' from 'PIL' (/opt/anaconda3/envs/tf140/lib/python3.7/site-packages/PIL/__init__.py)",
     "output_type": "error",
     "traceback": [
      "\u001b[0;31m---------------------------------------------------------------------------\u001b[0m",
      "\u001b[0;31mImportError\u001b[0m                               Traceback (most recent call last)",
      "\u001b[0;32m<ipython-input-1-c17d579a7a77>\u001b[0m in \u001b[0;36m<module>\u001b[0;34m\u001b[0m\n\u001b[0;32m----> 1\u001b[0;31m \u001b[0;32mfrom\u001b[0m \u001b[0mPIL\u001b[0m \u001b[0;32mimport\u001b[0m \u001b[0mImages\u001b[0m \u001b[0;31m#ピロー\u001b[0m\u001b[0;34m\u001b[0m\u001b[0;34m\u001b[0m\u001b[0m\n\u001b[0m\u001b[1;32m      2\u001b[0m \u001b[0;32mimport\u001b[0m \u001b[0mos\u001b[0m\u001b[0;34m,\u001b[0m \u001b[0mglob\u001b[0m\u001b[0;34m\u001b[0m\u001b[0;34m\u001b[0m\u001b[0m\n\u001b[1;32m      3\u001b[0m \u001b[0;32mimport\u001b[0m \u001b[0mnumpy\u001b[0m \u001b[0;32mas\u001b[0m \u001b[0mnp\u001b[0m\u001b[0;34m\u001b[0m\u001b[0;34m\u001b[0m\u001b[0m\n\u001b[1;32m      4\u001b[0m \u001b[0;32mfrom\u001b[0m \u001b[0msklearn\u001b[0m \u001b[0;32mimport\u001b[0m \u001b[0mcross_validation\u001b[0m \u001b[0;31m##サイキットラン\u001b[0m\u001b[0;34m\u001b[0m\u001b[0;34m\u001b[0m\u001b[0m\n\u001b[1;32m      5\u001b[0m \u001b[0;34m\u001b[0m\u001b[0m\n",
      "\u001b[0;31mImportError\u001b[0m: cannot import name 'Images' from 'PIL' (/opt/anaconda3/envs/tf140/lib/python3.7/site-packages/PIL/__init__.py)"
     ]
    }
   ],
   "source": [
    "from PIL import Images #ピロー\n",
    "import os, glob\n",
    "import numpy as np\n",
    "from sklearn import cross_validation ##サイキットラン\n",
    "\n",
    "classes = [\"monkey\",\"boar\",\"crow\"]\n",
    "num_classes = len(classes)\n",
    "image_size = 50 #50ピクセルにするため\n",
    "\n",
    "#画像の読み込み\n",
    "\n",
    "X = []\n",
    "Y = []\n",
    "for index, classlabel in enumerate(classes): #1のmonkey, 2のboarというようにお取り出す\n",
    "    photos_dir = \"./\" + classlabel\n",
    "    files = glob.glob(photos_dir + \"/*.jpg\") #パターン一致している画像を持ってくる\n",
    "    for i, file in enumerate(files):\n",
    "        if i >= 300: break\n",
    "        image = Image.open(file)\n",
    "        image = image.convert(\"RGB\") #イメージをRGBに変換\n",
    "        image = image.resize((image_size, image_size)) #サイズの変更\n",
    "        data = np.asarray(image) #数字の配列にしちゃう\n",
    "        X.append(data)\n",
    "        Y.apopend(index) #0,1,2が入っていく\n",
    "\n",
    "X = np.array(X)  #TensorFlowが扱いやすいデータ側（numpyのarray）に変更する\n",
    "Y = np.array(Y)\n",
    "\n"
   ]
  },
  {
   "cell_type": "code",
   "execution_count": 2,
   "metadata": {},
   "outputs": [
    {
     "ename": "ImportError",
     "evalue": "cannot import name 'cross_validation' from 'sklearn' (/opt/anaconda3/envs/tf140/lib/python3.7/site-packages/sklearn/__init__.py)",
     "output_type": "error",
     "traceback": [
      "\u001b[0;31m---------------------------------------------------------------------------\u001b[0m",
      "\u001b[0;31mImportError\u001b[0m                               Traceback (most recent call last)",
      "\u001b[0;32m<ipython-input-2-a199dccd7589>\u001b[0m in \u001b[0;36m<module>\u001b[0;34m\u001b[0m\n\u001b[1;32m      2\u001b[0m \u001b[0;32mimport\u001b[0m \u001b[0mos\u001b[0m\u001b[0;34m,\u001b[0m \u001b[0mglob\u001b[0m\u001b[0;34m\u001b[0m\u001b[0;34m\u001b[0m\u001b[0m\n\u001b[1;32m      3\u001b[0m \u001b[0;32mimport\u001b[0m \u001b[0mnumpy\u001b[0m \u001b[0;32mas\u001b[0m \u001b[0mnp\u001b[0m\u001b[0;34m\u001b[0m\u001b[0;34m\u001b[0m\u001b[0m\n\u001b[0;32m----> 4\u001b[0;31m \u001b[0;32mfrom\u001b[0m \u001b[0msklearn\u001b[0m \u001b[0;32mimport\u001b[0m \u001b[0mcross_validation\u001b[0m \u001b[0;31m##サイキットラン\u001b[0m\u001b[0;34m\u001b[0m\u001b[0;34m\u001b[0m\u001b[0m\n\u001b[0m\u001b[1;32m      5\u001b[0m \u001b[0;34m\u001b[0m\u001b[0m\n\u001b[1;32m      6\u001b[0m \u001b[0mclasses\u001b[0m \u001b[0;34m=\u001b[0m \u001b[0;34m[\u001b[0m\u001b[0;34m\"monkey\"\u001b[0m\u001b[0;34m,\u001b[0m\u001b[0;34m\"boar\"\u001b[0m\u001b[0;34m,\u001b[0m\u001b[0;34m\"crow\"\u001b[0m\u001b[0;34m]\u001b[0m\u001b[0;34m\u001b[0m\u001b[0;34m\u001b[0m\u001b[0m\n",
      "\u001b[0;31mImportError\u001b[0m: cannot import name 'cross_validation' from 'sklearn' (/opt/anaconda3/envs/tf140/lib/python3.7/site-packages/sklearn/__init__.py)"
     ]
    }
   ],
   "source": [
    "from PIL import Image #ピロー\n",
    "import os, glob\n",
    "import numpy as np\n",
    "from sklearn import cross_validation ##サイキットラン\n",
    "\n",
    "classes = [\"monkey\",\"boar\",\"crow\"]\n",
    "num_classes = len(classes)\n",
    "image_size = 50 #50ピクセルにするため\n",
    "\n",
    "#画像の読み込み\n",
    "\n",
    "X = []\n",
    "Y = []\n",
    "for index, classlabel in enumerate(classes): #1のmonkey, 2のboarというようにお取り出す\n",
    "    photos_dir = \"./\" + classlabel\n",
    "    files = glob.glob(photos_dir + \"/*.jpg\") #パターン一致している画像を持ってくる\n",
    "    for i, file in enumerate(files):\n",
    "        if i >= 300: break\n",
    "        image = Image.open(file)\n",
    "        image = image.convert(\"RGB\") #イメージをRGBに変換\n",
    "        image = image.resize((image_size, image_size)) #サイズの変更\n",
    "        data = np.asarray(image) #数字の配列にしちゃう\n",
    "        X.append(data)\n",
    "        Y.apopend(index) #0,1,2が入っていく\n",
    "\n",
    "X = np.array(X)  #TensorFlowが扱いやすいデータ側（numpyのarray）に変更する\n",
    "Y = np.array(Y)\n"
   ]
  },
  {
   "cell_type": "code",
   "execution_count": 3,
   "metadata": {},
   "outputs": [
    {
     "ename": "AttributeError",
     "evalue": "'list' object has no attribute 'apopend'",
     "output_type": "error",
     "traceback": [
      "\u001b[0;31m---------------------------------------------------------------------------\u001b[0m",
      "\u001b[0;31mAttributeError\u001b[0m                            Traceback (most recent call last)",
      "\u001b[0;32m<ipython-input-3-751a7d952c4e>\u001b[0m in \u001b[0;36m<module>\u001b[0;34m\u001b[0m\n\u001b[1;32m     23\u001b[0m         \u001b[0mdata\u001b[0m \u001b[0;34m=\u001b[0m \u001b[0mnp\u001b[0m\u001b[0;34m.\u001b[0m\u001b[0masarray\u001b[0m\u001b[0;34m(\u001b[0m\u001b[0mimage\u001b[0m\u001b[0;34m)\u001b[0m \u001b[0;31m#数字の配列にしちゃう\u001b[0m\u001b[0;34m\u001b[0m\u001b[0;34m\u001b[0m\u001b[0m\n\u001b[1;32m     24\u001b[0m         \u001b[0mX\u001b[0m\u001b[0;34m.\u001b[0m\u001b[0mappend\u001b[0m\u001b[0;34m(\u001b[0m\u001b[0mdata\u001b[0m\u001b[0;34m)\u001b[0m\u001b[0;34m\u001b[0m\u001b[0;34m\u001b[0m\u001b[0m\n\u001b[0;32m---> 25\u001b[0;31m         \u001b[0mY\u001b[0m\u001b[0;34m.\u001b[0m\u001b[0mapopend\u001b[0m\u001b[0;34m(\u001b[0m\u001b[0mindex\u001b[0m\u001b[0;34m)\u001b[0m \u001b[0;31m#0,1,2が入っていく\u001b[0m\u001b[0;34m\u001b[0m\u001b[0;34m\u001b[0m\u001b[0m\n\u001b[0m\u001b[1;32m     26\u001b[0m \u001b[0;34m\u001b[0m\u001b[0m\n\u001b[1;32m     27\u001b[0m \u001b[0mX\u001b[0m \u001b[0;34m=\u001b[0m \u001b[0mnp\u001b[0m\u001b[0;34m.\u001b[0m\u001b[0marray\u001b[0m\u001b[0;34m(\u001b[0m\u001b[0mX\u001b[0m\u001b[0;34m)\u001b[0m  \u001b[0;31m#TensorFlowが扱いやすいデータ側（numpyのarray）に変更する\u001b[0m\u001b[0;34m\u001b[0m\u001b[0;34m\u001b[0m\u001b[0m\n",
      "\u001b[0;31mAttributeError\u001b[0m: 'list' object has no attribute 'apopend'"
     ]
    }
   ],
   "source": [
    "from PIL import Image #ピロー\n",
    "import os, glob\n",
    "import numpy as np\n",
    "from sklearn import datasets, svm, metrics\n",
    "from sklearn.model_selection import train_test_split ##サイキットラン\n",
    "\n",
    "classes = [\"monkey\",\"boar\",\"crow\"]\n",
    "num_classes = len(classes)\n",
    "image_size = 50 #50ピクセルにするため\n",
    "\n",
    "#画像の読み込み\n",
    "\n",
    "X = []\n",
    "Y = []\n",
    "for index, classlabel in enumerate(classes): #1のmonkey, 2のboarというようにお取り出す\n",
    "    photos_dir = \"./\" + classlabel\n",
    "    files = glob.glob(photos_dir + \"/*.jpg\") #パターン一致している画像を持ってくる\n",
    "    for i, file in enumerate(files):\n",
    "        if i >= 300: break\n",
    "        image = Image.open(file)\n",
    "        image = image.convert(\"RGB\") #イメージをRGBに変換\n",
    "        image = image.resize((image_size, image_size)) #サイズの変更\n",
    "        data = np.asarray(image) #数字の配列にしちゃう\n",
    "        X.append(data)\n",
    "        Y.apopend(index) #0,1,2が入っていく\n",
    "\n",
    "X = np.array(X)  #TensorFlowが扱いやすいデータ側（numpyのarray）に変更する\n",
    "Y = np.array(Y)\n"
   ]
  },
  {
   "cell_type": "code",
   "execution_count": 4,
   "metadata": {},
   "outputs": [],
   "source": [
    "from PIL import Image #ピロー\n",
    "import os, glob\n",
    "import numpy as np\n",
    "from sklearn import datasets, svm, metrics\n",
    "from sklearn.model_selection import train_test_split ##サイキットラン\n",
    "\n",
    "classes = [\"monkey\",\"boar\",\"crow\"]\n",
    "num_classes = len(classes)\n",
    "image_size = 50 #50ピクセルにするため\n",
    "\n",
    "#画像の読み込み\n",
    "\n",
    "X = []\n",
    "Y = []\n",
    "for index, classlabel in enumerate(classes): #1のmonkey, 2のboarというようにお取り出す\n",
    "    photos_dir = \"./\" + classlabel\n",
    "    files = glob.glob(photos_dir + \"/*.jpg\") #パターン一致している画像を持ってくる\n",
    "    for i, file in enumerate(files):\n",
    "        if i >= 300: break\n",
    "        image = Image.open(file)\n",
    "        image = image.convert(\"RGB\") #イメージをRGBに変換\n",
    "        image = image.resize((image_size, image_size)) #サイズの変更\n",
    "        data = np.asarray(image) #数字の配列にしちゃう\n",
    "        X.append(data)\n",
    "        Y.append(index) #0,1,2が入っていく\n",
    "\n",
    "X = np.array(X)  #TensorFlowが扱いやすいデータ側（numpyのarray）に変更する\n",
    "Y = np.array(Y)\n"
   ]
  },
  {
   "cell_type": "code",
   "execution_count": 5,
   "metadata": {},
   "outputs": [],
   "source": [
    "from PIL import Image #ピロー\n",
    "import os, glob\n",
    "import numpy as np\n",
    "from sklearn import datasets, svm, metrics\n",
    "from sklearn.model_selection import train_test_split ##サイキットラン\n",
    "\n",
    "classes = [\"monkey\",\"boar\",\"crow\"]\n",
    "num_classes = len(classes)\n",
    "image_size = 50 #50ピクセルにするため\n",
    "\n",
    "#画像の読み込み\n",
    "\n",
    "X = []\n",
    "Y = []\n",
    "for index, classlabel in enumerate(classes): #1のmonkey, 2のboarというようにお取り出す\n",
    "    photos_dir = \"./\" + classlabel\n",
    "    files = glob.glob(photos_dir + \"/*.jpg\") #パターン一致している画像を持ってくる\n",
    "    for i, file in enumerate(files):\n",
    "        if i >= 300: break\n",
    "        image = Image.open(file)\n",
    "        image = image.convert(\"RGB\") #イメージをRGBに変換\n",
    "        image = image.resize((image_size, image_size)) #サイズの変更\n",
    "        data = np.asarray(image) #数字の配列にしちゃう\n",
    "        X.append(data)\n",
    "        Y.append(index) #0,1,2が入っていく\n",
    "\n",
    "X = np.array(X)  #TensorFlowが扱いやすいデータ側（numpyのarray）に変更する\n",
    "Y = np.array(Y)\n"
   ]
  },
  {
   "cell_type": "code",
   "execution_count": 6,
   "metadata": {},
   "outputs": [
    {
     "data": {
      "text/plain": [
       "array([[[200, 153, 107],\n",
       "        [205, 170, 128],\n",
       "        [204, 172, 134],\n",
       "        ...,\n",
       "        [228, 180, 142],\n",
       "        [224, 172, 125],\n",
       "        [219, 163, 112]],\n",
       "\n",
       "       [[197, 128,  71],\n",
       "        [195, 139,  88],\n",
       "        [195, 151, 102],\n",
       "        ...,\n",
       "        [227, 180, 138],\n",
       "        [224, 175, 132],\n",
       "        [222, 170, 123]],\n",
       "\n",
       "       [[194, 129,  75],\n",
       "        [201, 135,  83],\n",
       "        [191, 134,  81],\n",
       "        ...,\n",
       "        [226, 173, 129],\n",
       "        [223, 172, 127],\n",
       "        [223, 171, 123]],\n",
       "\n",
       "       ...,\n",
       "\n",
       "       [[ 42,  47,  51],\n",
       "        [ 35,  40,  46],\n",
       "        [ 32,  37,  43],\n",
       "        ...,\n",
       "        [222, 223, 218],\n",
       "        [223, 224, 219],\n",
       "        [224, 225, 220]],\n",
       "\n",
       "       [[ 34,  42,  45],\n",
       "        [ 37,  42,  48],\n",
       "        [ 28,  37,  46],\n",
       "        ...,\n",
       "        [225, 225, 225],\n",
       "        [221, 222, 217],\n",
       "        [222, 222, 220]],\n",
       "\n",
       "       [[ 38,  43,  47],\n",
       "        [ 31,  38,  44],\n",
       "        [ 30,  37,  47],\n",
       "        ...,\n",
       "        [181, 173, 154],\n",
       "        [169, 161, 138],\n",
       "        [166, 158, 135]]], dtype=uint8)"
      ]
     },
     "execution_count": 6,
     "metadata": {},
     "output_type": "execute_result"
    }
   ],
   "source": [
    "X[0]"
   ]
  },
  {
   "cell_type": "code",
   "execution_count": 7,
   "metadata": {},
   "outputs": [
    {
     "data": {
      "text/plain": [
       "786"
      ]
     },
     "execution_count": 7,
     "metadata": {},
     "output_type": "execute_result"
    }
   ],
   "source": [
    "len(X)"
   ]
  },
  {
   "cell_type": "code",
   "execution_count": 8,
   "metadata": {},
   "outputs": [
    {
     "data": {
      "text/plain": [
       "0"
      ]
     },
     "execution_count": 8,
     "metadata": {},
     "output_type": "execute_result"
    }
   ],
   "source": [
    "Y[100]"
   ]
  },
  {
   "cell_type": "code",
   "execution_count": 9,
   "metadata": {},
   "outputs": [
    {
     "data": {
      "text/plain": [
       "0"
      ]
     },
     "execution_count": 9,
     "metadata": {},
     "output_type": "execute_result"
    }
   ],
   "source": [
    "Y[200]"
   ]
  },
  {
   "cell_type": "code",
   "execution_count": 10,
   "metadata": {},
   "outputs": [
    {
     "data": {
      "text/plain": [
       "1"
      ]
     },
     "execution_count": 10,
     "metadata": {},
     "output_type": "execute_result"
    }
   ],
   "source": [
    "Y[450]"
   ]
  },
  {
   "cell_type": "code",
   "execution_count": null,
   "metadata": {},
   "outputs": [],
   "source": []
  }
 ],
 "metadata": {
  "kernelspec": {
   "display_name": "Python 3",
   "language": "python",
   "name": "python3"
  },
  "language_info": {
   "codemirror_mode": {
    "name": "ipython",
    "version": 3
   },
   "file_extension": ".py",
   "mimetype": "text/x-python",
   "name": "python",
   "nbconvert_exporter": "python",
   "pygments_lexer": "ipython3",
   "version": "3.7.4"
  }
 },
 "nbformat": 4,
 "nbformat_minor": 2
}
